{
 "cells": [
  {
   "cell_type": "markdown",
   "metadata": {},
   "source": [
    "So... how does your immune system know which cells or objects in your body and which are bad? \n",
    "\n",
    "From what I know and through a little bit of research, your cells along with viruses and the like produce proteins which are displayed on their membranes. These display proteins are called *antigens*. \n",
    "\n",
    "At this point of understanding, we would have to figure out *how* your body keeps track of **good** and **bad** antigens and then *what* those antigens actaully are. I assume they change overtime to compensate for any genetic mutations you may have. This is why I want to have a previous genome to look at as well as the current one. So the next course of business is learning more about how the immune system identifies good and bad antigens and how it keeps track of them too. "
   ]
  }
 ],
 "metadata": {
  "language_info": {
   "name": "python"
  }
 },
 "nbformat": 4,
 "nbformat_minor": 2
}
