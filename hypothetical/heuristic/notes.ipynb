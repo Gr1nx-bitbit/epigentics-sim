{
 "cells": [
  {
   "cell_type": "markdown",
   "metadata": {},
   "source": [
    "So... how does your immune system know which cells or objects in your body and which are bad? \n",
    "\n",
    "From what I know and through a little bit of research, your cells along with viruses and the like produce proteins which are displayed on their membranes. These display proteins are called *antigens*. \n",
    "\n",
    "Here's the [reading](https://www.sitcancer.org/connectedold/p/patient/resources/melanoma-guide/immune-system#:~:text=The%20immune%20system%20recognizes%20invaders,are%20unique%20to%20that%20individual.) I'm refereing to\n",
    "\n",
    "At this point of understanding, we would have to figure out *how* your body keeps track of **good** and **bad** antigens and then *what* those antigens actaully are. I assume they change overtime to compensate for any genetic mutations you may have. This is why I want to have a previous genome to look at as well as the current one. So the next course of business is learning more about how the immune system identifies good and bad antigens and how it keeps track of them too. I also want to see if there is some tolerance which we can exploit. Since you get genetic mutations, and those mutations can cause different protiens to be made, I assume that your immune cells have some tolerance as to what is ok or what is not when it comes to anitgens. It might be more like there is some sort of blacklist that tell immune cells what antigens are bad, or maybe its some sort of invite only list where anything found off of it is immedialty disposed of. \n",
    "\n",
    "**Antigen**: A protein or sugar (polysaccharides) that displayed on the outside of a cell or virus\n",
    "\n",
    "**Antibody**: A protein created by a B cell in direct response to certain anitgens. They bind to antigens and *\"mark\"* it as something to destroy by other immune cells. \n",
    "\n",
    "Cells in your body carry *self-antigens* which are antigens specific to you. Viruses or things that invade your body have *nonself-antigens* which the body detects and reacts to. When your immune cells detect something with nonself-antigens they realease **cytokins** (messengers) to communicate with other cells and control response to the threat. Wouldn't want your entire immune system cracking down on a single piece of pollon now would we?\n",
    "\n",
    "When it comes to invasions, denditric cells will eat an invader (turning into an Antigen Presenting Cell APC) and its nonself-antigens and then present those nonself-antigens to other immune cells, namely, B and T cells. B cells will then produce antibodies to mark bacteria or substances that should be eliminated. T cells will (ideally) recieve two signals when connecting with APCs. After T cells multiply and get rid of the threat, some might become *memory T cells*  continuing to fight off the same threat and which can live for months or years.\n",
    "\n",
    "So your immune system can build up a tolerance to certain antigens or invading/ foreign particles like pollen. Tumor cells can take advantage of this by realesing tumor antigens throughout the blood stream until you body builds up a tolerance to it and then no longer sees it as a threat leaving the cancer to do its business. "
   ]
  },
  {
   "cell_type": "markdown",
   "metadata": {},
   "source": [
    "Your immune system needs to be able to learn and respond to its enviroment as well as identify what's harmless and what's not. It reacts randomly to the enviroment to keep up a status quo of being responsive. Your immune system also has memory. How far and to what extent does memory go? Your immune system probably remembers your self-antigens but does it remember them for eternity or only for a little? Do proteins that have been a basis for mutation become auto-antigens?"
   ]
  }
 ],
 "metadata": {
  "language_info": {
   "name": "python"
  }
 },
 "nbformat": 4,
 "nbformat_minor": 2
}
