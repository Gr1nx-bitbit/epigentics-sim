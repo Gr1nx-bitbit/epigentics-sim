{
 "cells": [
  {
   "cell_type": "markdown",
   "metadata": {},
   "source": [
    "**How to identify introns**\n",
    "\n",
    "DNA is read \"downstream\" from the 5' to the 3'.\n",
    "\n",
    "Virtuall all pre-mRNA (the RNA made from transcribing half the helix in DNA) introns begin with GU and end with AG."
   ]
  }
 ],
 "metadata": {
  "language_info": {
   "name": "python"
  }
 },
 "nbformat": 4,
 "nbformat_minor": 2
}
