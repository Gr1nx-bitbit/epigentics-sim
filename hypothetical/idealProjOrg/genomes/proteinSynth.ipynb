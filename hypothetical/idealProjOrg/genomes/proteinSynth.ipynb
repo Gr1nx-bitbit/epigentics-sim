{
 "cells": [
  {
   "cell_type": "markdown",
   "metadata": {},
   "source": [
    "Protein synthesis comes down to polypeptide chains folding onto themselves. We won't be able to make anything fancy like that, but we can at least form the polypeptide chain and then maybe feed that into an API to tell us what protien it is. \n",
    "\n",
    "mature RNA is turned into "
   ]
  }
 ],
 "metadata": {
  "language_info": {
   "name": "python"
  }
 },
 "nbformat": 4,
 "nbformat_minor": 2
}
